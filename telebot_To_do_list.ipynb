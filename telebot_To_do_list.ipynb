{
  "nbformat": 4,
  "nbformat_minor": 0,
  "metadata": {
    "colab": {
      "provenance": []
    },
    "kernelspec": {
      "name": "python3",
      "display_name": "Python 3"
    },
    "language_info": {
      "name": "python"
    }
  },
  "cells": [
    {
      "cell_type": "code",
      "source": [
        "pip install pyTelegramBotAPI"
      ],
      "metadata": {
        "id": "amVTL1v_bi0y"
      },
      "execution_count": null,
      "outputs": []
    },
    {
      "cell_type": "code",
      "source": [
        "import telebot"
      ],
      "metadata": {
        "id": "NO7y7fxFb26i"
      },
      "execution_count": 2,
      "outputs": []
    },
    {
      "cell_type": "code",
      "source": [
        "from telebot import types"
      ],
      "metadata": {
        "id": "TEJOqXlbcJEi"
      },
      "execution_count": 3,
      "outputs": []
    },
    {
      "cell_type": "code",
      "source": [
        "API_TOKEN = \"5762328353:AAHblCCPHfpT58o-DEUUjBCdSTBP5Elf6s0\"\n",
        "\n",
        "bot = telebot.TeleBot(API_TOKEN)\n",
        "\n",
        "# Create task lists\n",
        "tasks = []\n",
        "\n",
        "# Function to add tasks to the list\n",
        "def add_task(task):\n",
        "    tasks.append(task)\n",
        "\n",
        "# Function to display task list\n",
        "def display_tasks():\n",
        "    if tasks:\n",
        "        message = \"Task List:\\n\"\n",
        "        for i, task in enumerate(tasks):\n",
        "            message += f\"{i+1}. {task}\\n\"\n",
        "    else:\n",
        "        message = \"Empty to-do list!\"\n",
        "    return message\n",
        "\n",
        "# Function to remove a task from the list\n",
        "def clear_tasks():\n",
        "    tasks.clear()\n",
        "    return \"Task list deleted successfully!\"\n",
        "\n",
        "# Function to process commands received from the user\n",
        "def process_command(command):\n",
        "    if command.lower().startswith(\"add\"):\n",
        "        task = command[4:]\n",
        "        add_task(task)\n",
        "        return \"Task successfully added to the list!\"\n",
        "    elif command.lower() == \"list\":\n",
        "        return display_tasks()\n",
        "    elif command.lower() == \"/list\":\n",
        "        return display_tasks()\n",
        "    elif command.lower() == \"delete\":\n",
        "        return clear_tasks()\n",
        "    elif command.lower() == \"/delete\":\n",
        "        return clear_tasks()\n",
        "    elif command.lower() == \"/start\":\n",
        "        return \"Ok, start adding a new task with the following command: add Task name (add Go to market)\"\n",
        "    else:\n",
        "        return \"Command not recognized. Try again with the command: add, list, or delete.\"\n",
        "\n",
        "# Handle messages received from users\n",
        "@bot.message_handler(func=lambda message: True)\n",
        "def handle_messages(message):\n",
        "    command = message.text\n",
        "    response = process_command(command)\n",
        "    bot.send_message(message.chat.id, response)\n",
        "\n",
        "bot.polling()\n",
        "print(\"Bots are running\")"
      ],
      "metadata": {
        "id": "1poqO186b3o7"
      },
      "execution_count": null,
      "outputs": []
    }
  ]
}